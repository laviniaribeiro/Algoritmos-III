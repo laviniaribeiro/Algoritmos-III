{
  "nbformat": 4,
  "nbformat_minor": 0,
  "metadata": {
    "colab": {
      "provenance": [],
      "authorship_tag": "ABX9TyPM8HMzFXV4HnFQ79B6CZxd",
      "include_colab_link": true
    },
    "kernelspec": {
      "name": "python3",
      "display_name": "Python 3"
    },
    "language_info": {
      "name": "python"
    }
  },
  "cells": [
    {
      "cell_type": "markdown",
      "metadata": {
        "id": "view-in-github",
        "colab_type": "text"
      },
      "source": [
        "<a href=\"https://colab.research.google.com/github/laviniaribeiro/Algoritmos-III/blob/main/C%C3%B3pia_de_ExercicioC111.ipynb\" target=\"_parent\"><img src=\"https://colab.research.google.com/assets/colab-badge.svg\" alt=\"Open In Colab\"/></a>"
      ]
    },
    {
      "cell_type": "markdown",
      "source": [
        "# Exercicio 1"
      ],
      "metadata": {
        "id": "kjbR49VPc8z_"
      }
    },
    {
      "cell_type": "code",
      "source": [
        "import numpy as np\n",
        "\n",
        "#criando arrays\n",
        "array1 = np.ones(8, dtype=int)\n",
        "array2 = np.random.randint(0, 9, [8])\n",
        "\n",
        "array3 = array1 + array2\n",
        "\n",
        "soma = np.sum(array3)\n",
        "print(soma)\n",
        "if soma >= 40:\n",
        "    array3 = np.reshape(array3, (8,1))\n",
        "else:\n",
        "    array3 = np.reshape(array3, (1,8))\n",
        "\n",
        "print(array3)"
      ],
      "metadata": {
        "colab": {
          "base_uri": "https://localhost:8080/"
        },
        "id": "J_GADyBYdPzU",
        "outputId": "f7c3d7fd-419f-451b-c018-322f8d77b9b2"
      },
      "execution_count": null,
      "outputs": [
        {
          "output_type": "stream",
          "name": "stdout",
          "text": [
            "58\n",
            "[[2]\n",
            " [5]\n",
            " [9]\n",
            " [9]\n",
            " [8]\n",
            " [9]\n",
            " [7]\n",
            " [9]]\n"
          ]
        }
      ]
    },
    {
      "cell_type": "markdown",
      "source": [
        "# Exercicio 2"
      ],
      "metadata": {
        "id": "YobGt-0ddX74"
      }
    },
    {
      "cell_type": "code",
      "source": [
        "array1 = np.arange(0, 51, 2)\n",
        "print(array1)\n",
        "array2 = np.arange(100, 50, -2)\n",
        "print(array2)\n",
        "array3 = np.concatenate([array1, array2])\n",
        "print(array3)"
      ],
      "metadata": {
        "id": "4lMQnzSWdd55"
      },
      "execution_count": null,
      "outputs": []
    },
    {
      "cell_type": "markdown",
      "source": [
        "# Exercicio 3"
      ],
      "metadata": {
        "id": "7x0EJGzEd05W"
      }
    },
    {
      "cell_type": "code",
      "source": [
        "field = np.zeros([2, 2], dtype=int)\n",
        "coluna_aleatória = np.random.randint(0, 2)\n",
        "linha_aleatória = np.random.randint(0, 2)\n",
        "field[linha_aleatória][coluna_aleatória] = 1\n",
        "\n",
        "mascara = [['*', '*'], ['*', '*']]\n",
        "contador = 0\n",
        "\n",
        "def print_mask(mask):\n",
        "    for row in mask:\n",
        "        print(\" \".join(str(cell) for cell in row))\n",
        "\n",
        "while 1:\n",
        "\n",
        "    if(contador == 3):\n",
        "        print(\"Parabéns, você venceu o jogo!!!\")\n",
        "        break\n",
        "\n",
        "    print(\"Selecione uma posição x e y (0 ou 1):\")\n",
        "    print_mask(mascara)\n",
        "    x = int(input(\"Digite o valor de x:\"))\n",
        "    y = int(input(\"Digite o valor de y:\"))\n",
        "\n",
        "    if field[x][y] == 1:\n",
        "        print(\"Você perdeu...\")\n",
        "        break\n",
        "    else:\n",
        "        mascara[x][y] = '0'\n",
        "        contador += 1"
      ],
      "metadata": {
        "colab": {
          "base_uri": "https://localhost:8080/",
          "height": 745
        },
        "collapsed": true,
        "id": "3TIi8yoOd-FG",
        "outputId": "615f5e27-3494-4873-d181-5d2010b2e42d"
      },
      "execution_count": null,
      "outputs": [
        {
          "output_type": "stream",
          "name": "stdout",
          "text": [
            "Selecione uma posição x e y (0 ou 1):\n",
            "* *\n",
            "* *\n"
          ]
        },
        {
          "output_type": "error",
          "ename": "KeyboardInterrupt",
          "evalue": "Interrupted by user",
          "traceback": [
            "\u001b[0;31m---------------------------------------------------------------------------\u001b[0m",
            "\u001b[0;31mKeyboardInterrupt\u001b[0m                         Traceback (most recent call last)",
            "\u001b[0;32m<ipython-input-2-11b3727a8bdf>\u001b[0m in \u001b[0;36m<cell line: 0>\u001b[0;34m()\u001b[0m\n\u001b[1;32m     19\u001b[0m     \u001b[0mprint\u001b[0m\u001b[0;34m(\u001b[0m\u001b[0;34m\"Selecione uma posição x e y (0 ou 1):\"\u001b[0m\u001b[0;34m)\u001b[0m\u001b[0;34m\u001b[0m\u001b[0;34m\u001b[0m\u001b[0m\n\u001b[1;32m     20\u001b[0m     \u001b[0mprint_mask\u001b[0m\u001b[0;34m(\u001b[0m\u001b[0mmascara\u001b[0m\u001b[0;34m)\u001b[0m\u001b[0;34m\u001b[0m\u001b[0;34m\u001b[0m\u001b[0m\n\u001b[0;32m---> 21\u001b[0;31m     \u001b[0mx\u001b[0m \u001b[0;34m=\u001b[0m \u001b[0mint\u001b[0m\u001b[0;34m(\u001b[0m\u001b[0minput\u001b[0m\u001b[0;34m(\u001b[0m\u001b[0;34m\"Digite o valor de x:\"\u001b[0m\u001b[0;34m)\u001b[0m\u001b[0;34m)\u001b[0m\u001b[0;34m\u001b[0m\u001b[0;34m\u001b[0m\u001b[0m\n\u001b[0m\u001b[1;32m     22\u001b[0m     \u001b[0my\u001b[0m \u001b[0;34m=\u001b[0m \u001b[0mint\u001b[0m\u001b[0;34m(\u001b[0m\u001b[0minput\u001b[0m\u001b[0;34m(\u001b[0m\u001b[0;34m\"Digite o valor de y:\"\u001b[0m\u001b[0;34m)\u001b[0m\u001b[0;34m)\u001b[0m\u001b[0;34m\u001b[0m\u001b[0;34m\u001b[0m\u001b[0m\n\u001b[1;32m     23\u001b[0m \u001b[0;34m\u001b[0m\u001b[0m\n",
            "\u001b[0;32m/usr/local/lib/python3.11/dist-packages/ipykernel/kernelbase.py\u001b[0m in \u001b[0;36mraw_input\u001b[0;34m(self, prompt)\u001b[0m\n\u001b[1;32m   1175\u001b[0m                 \u001b[0;34m\"raw_input was called, but this frontend does not support input requests.\"\u001b[0m\u001b[0;34m\u001b[0m\u001b[0;34m\u001b[0m\u001b[0m\n\u001b[1;32m   1176\u001b[0m             )\n\u001b[0;32m-> 1177\u001b[0;31m         return self._input_request(\n\u001b[0m\u001b[1;32m   1178\u001b[0m             \u001b[0mstr\u001b[0m\u001b[0;34m(\u001b[0m\u001b[0mprompt\u001b[0m\u001b[0;34m)\u001b[0m\u001b[0;34m,\u001b[0m\u001b[0;34m\u001b[0m\u001b[0;34m\u001b[0m\u001b[0m\n\u001b[1;32m   1179\u001b[0m             \u001b[0mself\u001b[0m\u001b[0;34m.\u001b[0m\u001b[0m_parent_ident\u001b[0m\u001b[0;34m[\u001b[0m\u001b[0;34m\"shell\"\u001b[0m\u001b[0;34m]\u001b[0m\u001b[0;34m,\u001b[0m\u001b[0;34m\u001b[0m\u001b[0;34m\u001b[0m\u001b[0m\n",
            "\u001b[0;32m/usr/local/lib/python3.11/dist-packages/ipykernel/kernelbase.py\u001b[0m in \u001b[0;36m_input_request\u001b[0;34m(self, prompt, ident, parent, password)\u001b[0m\n\u001b[1;32m   1217\u001b[0m             \u001b[0;32mexcept\u001b[0m \u001b[0mKeyboardInterrupt\u001b[0m\u001b[0;34m:\u001b[0m\u001b[0;34m\u001b[0m\u001b[0;34m\u001b[0m\u001b[0m\n\u001b[1;32m   1218\u001b[0m                 \u001b[0;31m# re-raise KeyboardInterrupt, to truncate traceback\u001b[0m\u001b[0;34m\u001b[0m\u001b[0;34m\u001b[0m\u001b[0m\n\u001b[0;32m-> 1219\u001b[0;31m                 \u001b[0;32mraise\u001b[0m \u001b[0mKeyboardInterrupt\u001b[0m\u001b[0;34m(\u001b[0m\u001b[0;34m\"Interrupted by user\"\u001b[0m\u001b[0;34m)\u001b[0m \u001b[0;32mfrom\u001b[0m \u001b[0;32mNone\u001b[0m\u001b[0;34m\u001b[0m\u001b[0;34m\u001b[0m\u001b[0m\n\u001b[0m\u001b[1;32m   1220\u001b[0m             \u001b[0;32mexcept\u001b[0m \u001b[0mException\u001b[0m\u001b[0;34m:\u001b[0m\u001b[0;34m\u001b[0m\u001b[0;34m\u001b[0m\u001b[0m\n\u001b[1;32m   1221\u001b[0m                 \u001b[0mself\u001b[0m\u001b[0;34m.\u001b[0m\u001b[0mlog\u001b[0m\u001b[0;34m.\u001b[0m\u001b[0mwarning\u001b[0m\u001b[0;34m(\u001b[0m\u001b[0;34m\"Invalid Message:\"\u001b[0m\u001b[0;34m,\u001b[0m \u001b[0mexc_info\u001b[0m\u001b[0;34m=\u001b[0m\u001b[0;32mTrue\u001b[0m\u001b[0;34m)\u001b[0m\u001b[0;34m\u001b[0m\u001b[0;34m\u001b[0m\u001b[0m\n",
            "\u001b[0;31mKeyboardInterrupt\u001b[0m: Interrupted by user"
          ]
        }
      ]
    },
    {
      "cell_type": "markdown",
      "source": [
        "# Parte II"
      ],
      "metadata": {
        "id": "Iq1Uov7aefca"
      }
    },
    {
      "cell_type": "markdown",
      "source": [
        "#Exercicio 4"
      ],
      "metadata": {
        "id": "wmuXJspeetl5"
      }
    },
    {
      "cell_type": "code",
      "source": [
        "matriz = np.random.randint(1, 5, [np.random.randint(1, 5), np.random.randint(1, 5)])\n",
        "print(matriz)\n",
        "\n",
        "linhas, colunas = matriz.shape\n",
        "total = linhas * colunas\n",
        "print(total)\n",
        "\n",
        "if total & 1:\n",
        "    print(\"A matriz pode se tornar um vetor com números ímpares de elementos\")\n",
        "else:\n",
        "    print(\"A matriz pode se tornar um vetor com um números pares de elementos\")"
      ],
      "metadata": {
        "id": "8IcxJf4Iej6f"
      },
      "execution_count": null,
      "outputs": []
    },
    {
      "cell_type": "markdown",
      "source": [
        "# Exercicio 5"
      ],
      "metadata": {
        "id": "VA8PKD00e8zK"
      }
    },
    {
      "cell_type": "code",
      "source": [
        "\n",
        "np.random.seed(10)\n",
        "\n",
        "matriz = np.random.randint(1, 50, [4, 4])\n",
        "\n",
        "media_linhas = matriz.sum(axis=1)/4\n",
        "print(media_linhas)\n",
        "media_colunas = matriz.sum(axis=0)/2\n",
        "print(media_colunas)\n",
        "\n",
        "print(media_linhas.max())\n",
        "print(media_colunas.max())\n",
        "\n",
        "contador = np.unique(matriz, return_counts=True)\n",
        "\n",
        "print('Ocorrência dos valores:')\n",
        "for i in range(len(contador[1])):\n",
        "    print(f'{contador[0][i]}: {contador[1][i]}')\n",
        "print('Valores que aparecem 2 vezes:')\n",
        "for j in range(len(contador[1])):\n",
        "    if contador[1][j] == 2:\n",
        "        print(contador[0][j])"
      ],
      "metadata": {
        "colab": {
          "base_uri": "https://localhost:8080/"
        },
        "id": "ZrAV3bVrfVHS",
        "outputId": "67e95d81-36cf-42e6-9d26-dd2243c4c258"
      },
      "execution_count": null,
      "outputs": [
        {
          "output_type": "stream",
          "name": "stdout",
          "text": [
            "[16.  33.5 12.5 34.5]\n",
            "[56.  56.5 46.5 34. ]\n",
            "34.5\n",
            "56.5\n",
            "Ocorrência dos valores:\n",
            "1: 2\n",
            "9: 1\n",
            "10: 2\n",
            "16: 1\n",
            "17: 1\n",
            "26: 1\n",
            "29: 1\n",
            "30: 2\n",
            "37: 2\n",
            "41: 1\n",
            "43: 1\n",
            "49: 1\n",
            "Valores que aparecem 2 vezes:\n",
            "1\n",
            "10\n",
            "30\n",
            "37\n"
          ]
        }
      ]
    }
  ]
}